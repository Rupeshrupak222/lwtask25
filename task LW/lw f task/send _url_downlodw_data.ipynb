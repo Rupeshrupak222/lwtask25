{
 "cells": [
  {
   "cell_type": "code",
   "execution_count": 1,
   "id": "b14b7404-8932-4bc4-8414-2827201c56ae",
   "metadata": {},
   "outputs": [
    {
     "name": "stdout",
     "output_type": "stream",
     "text": [
      "📥 Downloading main page from https://www.corelanguages.com/ ...\n",
      "✅ HTML page saved to downloaded_website\\index.html\n",
      "🔍 Parsing and downloading assets (images, css, js)...\n"
     ]
    },
    {
     "name": "stderr",
     "output_type": "stream",
     "text": [
      "📦 Downloading assets: 100%|█████████████████████████████████████████████████████████████| 1/1 [00:00<00:00,  5.37it/s]"
     ]
    },
    {
     "name": "stdout",
     "output_type": "stream",
     "text": [
      "✅ All content downloaded successfully in folder: downloaded_website\n"
     ]
    },
    {
     "name": "stderr",
     "output_type": "stream",
     "text": [
      "\n"
     ]
    }
   ],
   "source": [
    "import os\n",
    "import requests\n",
    "from bs4 import BeautifulSoup\n",
    "from urllib.parse import urljoin, urlparse\n",
    "from tqdm import tqdm\n",
    "\n",
    "# ==============================\n",
    "# Step 1: URL आणि Save Folder\n",
    "# ==============================\n",
    "url = \"https://www.corelanguages.com/\"  # 🔁 इथे तू ज्या website चा डेटा डाउनलोड करायचा आहे तो टाक\n",
    "save_dir = \"downloaded_website\"\n",
    "os.makedirs(save_dir, exist_ok=True)\n",
    "\n",
    "# ==============================\n",
    "# Step 2: HTML Page Download\n",
    "# ==============================\n",
    "print(f\"📥 Downloading main page from {url} ...\")\n",
    "response = requests.get(url)\n",
    "html_content = response.text\n",
    "\n",
    "html_file_path = os.path.join(save_dir, \"index.html\")\n",
    "\n",
    "# Save HTML locally\n",
    "with open(html_file_path, \"w\", encoding=\"utf-8\") as f:\n",
    "    f.write(html_content)\n",
    "\n",
    "print(f\"✅ HTML page saved to {html_file_path}\")\n",
    "\n",
    "# ==============================\n",
    "# Step 3: Asset Download (images, CSS, JS)\n",
    "# ==============================\n",
    "print(\"🔍 Parsing and downloading assets (images, css, js)...\")\n",
    "\n",
    "soup = BeautifulSoup(html_content, \"html.parser\")\n",
    "assets = []\n",
    "\n",
    "# Tags with downloadable content\n",
    "for tag in soup.find_all([\"img\", \"script\", \"link\"]):\n",
    "    attr = \"src\" if tag.name in [\"img\", \"script\"] else \"href\"\n",
    "    file_url = tag.get(attr)\n",
    "    if file_url:\n",
    "        full_url = urljoin(url, file_url)\n",
    "        assets.append(full_url)\n",
    "\n",
    "# Download assets\n",
    "for asset_url in tqdm(set(assets), desc=\"📦 Downloading assets\"):\n",
    "    try:\n",
    "        asset_resp = requests.get(asset_url, timeout=10)\n",
    "        parsed_url = urlparse(asset_url)\n",
    "        asset_path = parsed_url.path.lstrip(\"/\")\n",
    "\n",
    "        full_path = os.path.join(save_dir, asset_path)\n",
    "        os.makedirs(os.path.dirname(full_path), exist_ok=True)\n",
    "\n",
    "        with open(full_path, \"wb\") as f:\n",
    "            f.write(asset_resp.content)\n",
    "    except Exception as e:\n",
    "        print(f\"⚠️ Failed to download {asset_url} -> {e}\")\n",
    "\n",
    "print(\"✅ All content downloaded successfully in folder:\", save_dir)\n"
   ]
  },
  {
   "cell_type": "code",
   "execution_count": null,
   "id": "92f6ab5f-153f-4370-b376-bf00bd5c97ff",
   "metadata": {},
   "outputs": [],
   "source": []
  }
 ],
 "metadata": {
  "kernelspec": {
   "display_name": "Python 3 (ipykernel)",
   "language": "python",
   "name": "python3"
  },
  "language_info": {
   "codemirror_mode": {
    "name": "ipython",
    "version": 3
   },
   "file_extension": ".py",
   "mimetype": "text/x-python",
   "name": "python",
   "nbconvert_exporter": "python",
   "pygments_lexer": "ipython3",
   "version": "3.12.7"
  }
 },
 "nbformat": 4,
 "nbformat_minor": 5
}
