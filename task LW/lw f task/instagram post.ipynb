{
 "cells": [
  {
   "cell_type": "code",
   "execution_count": 2,
   "id": "a069d728-6d33-4179-a1d3-6ff0e2b2cf2f",
   "metadata": {},
   "outputs": [
    {
     "ename": "ModuleNotFoundError",
     "evalue": "No module named 'instagrapi'",
     "output_type": "error",
     "traceback": [
      "\u001b[1;31m---------------------------------------------------------------------------\u001b[0m",
      "\u001b[1;31mModuleNotFoundError\u001b[0m                       Traceback (most recent call last)",
      "Cell \u001b[1;32mIn[2], line 1\u001b[0m\n\u001b[1;32m----> 1\u001b[0m \u001b[38;5;28;01mfrom\u001b[39;00m \u001b[38;5;21;01minstagrapi\u001b[39;00m \u001b[38;5;28;01mimport\u001b[39;00m Client\n\u001b[0;32m      3\u001b[0m \u001b[38;5;66;03m# Login credentials (use your own account)\u001b[39;00m\n\u001b[0;32m      4\u001b[0m username \u001b[38;5;241m=\u001b[39m \u001b[38;5;124m\"\u001b[39m\u001b[38;5;124msmarathbirari\u001b[39m\u001b[38;5;124m\"\u001b[39m\n",
      "\u001b[1;31mModuleNotFoundError\u001b[0m: No module named 'instagrapi'"
     ]
    }
   ],
   "source": [
    "from instagrapi import Client\n",
    "\n",
    "# Login credentials (use your own account)\n",
    "username = \"smarathbirari\"\n",
    "password = \"password\"\n",
    "\n",
    "# Create client and login\n",
    "cl = Client()\n",
    "cl.login(username, password)\n",
    "\n",
    "# Path to your image and your caption\n",
    "image_path = \"123.jpg\"\n",
    "caption = \"Hello from Python! 😊 #instagrapi\"\n",
    "\n",
    "# Upload post\n",
    "cl.photo_upload(image_path, caption)\n",
    "\n",
    "print(\"✅ Photo posted successfully!\")"
   ]
  },
  {
   "cell_type": "code",
   "execution_count": null,
   "id": "8cd29915-6ede-42ae-9dd3-c01f2fec1956",
   "metadata": {},
   "outputs": [],
   "source": []
  }
 ],
 "metadata": {
  "kernelspec": {
   "display_name": "base",
   "language": "python",
   "name": "python3"
  },
  "language_info": {
   "codemirror_mode": {
    "name": "ipython",
    "version": 3
   },
   "file_extension": ".py",
   "mimetype": "text/x-python",
   "name": "python",
   "nbconvert_exporter": "python",
   "pygments_lexer": "ipython3",
   "version": "3.11.5"
  }
 },
 "nbformat": 4,
 "nbformat_minor": 5
}
