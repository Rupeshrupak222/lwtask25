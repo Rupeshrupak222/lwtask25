{
 "cells": [
  {
   "cell_type": "code",
   "execution_count": 1,
   "id": "8a8fcf9e-af5f-40c2-a112-dd1ace53a96a",
   "metadata": {},
   "outputs": [
    {
     "ename": "ModuleNotFoundError",
     "evalue": "No module named 'twilio'",
     "output_type": "error",
     "traceback": [
      "\u001b[1;31m---------------------------------------------------------------------------\u001b[0m",
      "\u001b[1;31mModuleNotFoundError\u001b[0m                       Traceback (most recent call last)",
      "Cell \u001b[1;32mIn[1], line 1\u001b[0m\n\u001b[1;32m----> 1\u001b[0m \u001b[38;5;28;01mfrom\u001b[39;00m \u001b[38;5;21;01mtwilio\u001b[39;00m\u001b[38;5;21;01m.\u001b[39;00m\u001b[38;5;21;01mrest\u001b[39;00m \u001b[38;5;28;01mimport\u001b[39;00m Client\n\u001b[0;32m      3\u001b[0m \u001b[38;5;66;03m# Twilio credentials\u001b[39;00m\n\u001b[0;32m      4\u001b[0m account_sid \u001b[38;5;241m=\u001b[39m \u001b[38;5;124m\"\u001b[39m\u001b[38;5;124mAC2fb75fe0a9e32210f246bb1a30e15f20\u001b[39m\u001b[38;5;124m\"\u001b[39m\n",
      "\u001b[1;31mModuleNotFoundError\u001b[0m: No module named 'twilio'"
     ]
    }
   ],
   "source": [
    "from twilio.rest import Client\n",
    "\n",
    "# Twilio credentials\n",
    "account_sid = \"AC2fb75fe0a9e32210f246bb1a30e15f20\"\n",
    "auth_token = \"827bf70134ae616ec8f87db732f58325\"\n",
    "\n",
    "# Create client\n",
    "client = Client(account_sid, auth_token)\n",
    "\n",
    "# Send message\n",
    "message = client.messages.create(\n",
    "    from_=\"+18383682014\",             # Twilio number\n",
    "    body=\"Hi, this is Python testing\",  # Message body\n",
    "    to=\"+919579346760\"               # Verified number\n",
    ")\n",
    "\n",
    "# Print SID\n",
    "print(message.sid)\n"
   ]
  },
  {
   "cell_type": "code",
   "execution_count": null,
   "id": "525df928-f312-4562-8401-9e84416473fe",
   "metadata": {},
   "outputs": [],
   "source": []
  }
 ],
 "metadata": {
  "kernelspec": {
   "display_name": "base",
   "language": "python",
   "name": "python3"
  },
  "language_info": {
   "codemirror_mode": {
    "name": "ipython",
    "version": 3
   },
   "file_extension": ".py",
   "mimetype": "text/x-python",
   "name": "python",
   "nbconvert_exporter": "python",
   "pygments_lexer": "ipython3",
   "version": "3.11.5"
  }
 },
 "nbformat": 4,
 "nbformat_minor": 5
}
