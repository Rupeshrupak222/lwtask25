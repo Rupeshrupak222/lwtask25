{
 "cells": [
  {
   "cell_type": "code",
   "execution_count": 4,
   "id": "0e78a13d-3acf-4db8-9f57-819d20899066",
   "metadata": {},
   "outputs": [
    {
     "name": "stdout",
     "output_type": "stream",
     "text": [
      "Message Sent! SID: SM59ed9057317098eb28e7c48e54003abf\n"
     ]
    }
   ],
   "source": [
    "from twilio.rest import Client\n",
    "\n",
    "# Twilio credentials (Twilio Console मधून मिळवलेले)\n",
    "account_sid = 'AC2fb75fe0a9e32210f246bb1a30e15f20'\n",
    "auth_token = '827bf70134ae616ec8f87db732f58325'\n",
    "\n",
    "# Client create करा\n",
    "client = Client(account_sid, auth_token)\n",
    "\n",
    "# WhatsApp नंबर सेट करा (तू sandbox मध्ये जोडलेला नंबर)\n",
    "to_number = 'whatsapp:+919579346760'  # ज्याला मेसेज पाठवायचा आहे\n",
    "from_number = 'whatsapp:+14155238886'  # Twilio sandbox चा नंबर\n",
    "\n",
    "# मेसेज पाठवा\n",
    "message = client.messages.create(\n",
    "    body=\"Hi! हे मेसेज Python वापरून पाठवलं आहे Twilio वापरून.\",\n",
    "    from_=from_number,\n",
    "    to=to_number\n",
    ")\n",
    "\n",
    "print(f\"Message Sent! SID: {message.sid}\")\n"
   ]
  },
  {
   "cell_type": "code",
   "execution_count": 1,
   "id": "c1929541-32f2-4354-bc69-685cb1fda3dc",
   "metadata": {},
   "outputs": [
    {
     "name": "stdout",
     "output_type": "stream",
     "text": [
      "⌛ Waiting for 10 seconds before sending the message...\n",
      "✅ Message Sent! SID: SM613cd75a0f0d6ab125463fb24171276d\n"
     ]
    }
   ],
   "source": [
    "import time\n",
    "from twilio.rest import Client\n",
    "\n",
    "\n",
    "account_sid = 'AC2fb75fe0a9e32210f246bb1a30e15f20'  \n",
    "auth_token = '827bf70134ae616ec8f87db732f58325'     \n",
    "\n",
    "\n",
    "client = Client(account_sid, auth_token)\n",
    "\n",
    "\n",
    "to_number = 'whatsapp:+919665488192'       \n",
    "from_number = 'whatsapp:+14155238886'     \n",
    "\n",
    "\n",
    "delay_seconds = 10  \n",
    "\n",
    "print(f\"⌛ Waiting for {delay_seconds} seconds before sending the message...\")\n",
    "time.sleep(delay_seconds)\n",
    "\n",
    "\n",
    "message = client.messages.create(\n",
    "    body=\"welcome to lw.\",\n",
    "    from_=from_number,\n",
    "    to=to_number\n",
    ")\n",
    "\n",
    "print(f\"✅ Message Sent! SID: {message.sid}\")\n"
   ]
  },
  {
   "cell_type": "code",
   "execution_count": null,
   "id": "a9ec6f16-4bc9-4f44-b826-73eb57d2d58d",
   "metadata": {},
   "outputs": [],
   "source": []
  }
 ],
 "metadata": {
  "kernelspec": {
   "display_name": "Python 3 (ipykernel)",
   "language": "python",
   "name": "python3"
  },
  "language_info": {
   "codemirror_mode": {
    "name": "ipython",
    "version": 3
   },
   "file_extension": ".py",
   "mimetype": "text/x-python",
   "name": "python",
   "nbconvert_exporter": "python",
   "pygments_lexer": "ipython3",
   "version": "3.12.7"
  }
 },
 "nbformat": 4,
 "nbformat_minor": 5
}
