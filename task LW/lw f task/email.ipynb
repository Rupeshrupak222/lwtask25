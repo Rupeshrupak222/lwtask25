{
 "cells": [
  {
   "cell_type": "code",
   "execution_count": null,
   "id": "3ca63019-c31e-4798-ac95-79748cd32264",
   "metadata": {},
   "outputs": [],
   "source": [
    "import smtplib\n",
    "\n",
    "# Input sender and receiver info\n",
    "email = input(\"SENDER EMAIL: \")\n",
    "receiver_email = input(\"RECEIVER EMAIL: \")\n",
    "\n",
    "# Input subject and message\n",
    "subject = input(\"SUBJECT: \")\n",
    "message = input(\"MESSAGE: \")\n",
    "\n",
    "# Format the full email content\n",
    "text = f\"Subject: {subject}\\n\\n{message}\"\n",
    "\n",
    "# Set up the SMTP server\n",
    "server = smtplib.SMTP(\"smtp.gmail.com\", 587)\n",
    "server.starttls()\n",
    "\n",
    "# Login to sender's email (use app password for Gmail)\n",
    "server.login(email, \"fzfdsixlpxlajbfi\")  # Replace with a real app password\n",
    "\n",
    "# Send the email\n",
    "server.sendmail(email, receiver_email, text)\n",
    "\n",
    "print(f\"Email has been sent to {receiver_email}\")\n"
   ]
  },
  {
   "cell_type": "code",
   "execution_count": null,
   "id": "0b690009-3ff9-4434-a72d-b06a057d7cdb",
   "metadata": {},
   "outputs": [],
   "source": []
  }
 ],
 "metadata": {
  "kernelspec": {
   "display_name": "Python 3 (ipykernel)",
   "language": "python",
   "name": "python3"
  },
  "language_info": {
   "codemirror_mode": {
    "name": "ipython",
    "version": 3
   },
   "file_extension": ".py",
   "mimetype": "text/x-python",
   "name": "python",
   "nbconvert_exporter": "python",
   "pygments_lexer": "ipython3",
   "version": "3.12.7"
  }
 },
 "nbformat": 4,
 "nbformat_minor": 5
}
