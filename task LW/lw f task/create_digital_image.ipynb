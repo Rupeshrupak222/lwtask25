{
 "cells": [
  {
   "cell_type": "code",
   "execution_count": 1,
   "id": "d58d657b-a79e-46fb-8017-000af5290b0a",
   "metadata": {},
   "outputs": [
    {
     "name": "stdout",
     "output_type": "stream",
     "text": [
      "✅ image_shapes_text.png created.\n",
      "✅ gradient_image.png created.\n",
      "✅ stylish_text_image.png created.\n"
     ]
    }
   ],
   "source": [
    "from PIL import Image, ImageDraw, ImageFont\n",
    "import numpy as np\n",
    "\n",
    "# ============================\n",
    "# 🔵 PART 1: Basic Image with Text and Shapes\n",
    "# ============================\n",
    "\n",
    "# Create blank image (width=600, height=400) with yellow background\n",
    "img1 = Image.new('RGB', (600, 400), color=(255, 255, 204))\n",
    "draw = ImageDraw.Draw(img1)\n",
    "\n",
    "# Draw rectangle\n",
    "draw.rectangle([(50, 50), (550, 350)], outline=\"blue\", width=5)\n",
    "\n",
    "# Draw circle\n",
    "draw.ellipse([(250, 150), (350, 250)], fill=\"red\", outline=\"black\")\n",
    "\n",
    "# Add simple text\n",
    "draw.text((200, 360), \"My First Digital Image\", fill=\"black\")\n",
    "\n",
    "# Save image\n",
    "img1.save(\"image_shapes_text.png\")\n",
    "print(\"✅ image_shapes_text.png created.\")\n",
    "\n",
    "# ============================\n",
    "# 🟢 PART 2: Gradient Image using NumPy\n",
    "# ============================\n",
    "\n",
    "width, height = 256, 256\n",
    "image_array = np.zeros((height, width, 3), dtype=np.uint8)\n",
    "\n",
    "# Fill gradient: R = x, G = y, B = 100\n",
    "for y in range(height):\n",
    "    for x in range(width):\n",
    "        image_array[y, x] = [x, y, 100]\n",
    "\n",
    "# Convert NumPy array to image\n",
    "img2 = Image.fromarray(image_array)\n",
    "img2.save(\"gradient_image.png\")\n",
    "print(\"✅ gradient_image.png created.\")\n",
    "\n",
    "# ============================\n",
    "# 🟡 PART 3: Fancy Text with Font (Optional)\n",
    "# ============================\n",
    "\n",
    "# Create white image\n",
    "img3 = Image.new('RGB', (500, 200), color=(255, 255, 255))\n",
    "draw3 = ImageDraw.Draw(img3)\n",
    "\n",
    "# Optional: Custom font (commented in case font not found)\n",
    "try:\n",
    "    font = ImageFont.truetype(\"arial.ttf\", size=32)\n",
    "except:\n",
    "    font = None\n",
    "\n",
    "# Add stylish text\n",
    "draw3.text((50, 80), \"Python Rocks!\", fill=\"green\", font=font)\n",
    "\n",
    "# Save\n",
    "img3.save(\"stylish_text_image.png\")\n",
    "print(\"✅ stylish_text_image.png created.\")\n"
   ]
  },
  {
   "cell_type": "code",
   "execution_count": null,
   "id": "4f2c293f-3b4b-4db9-bc3f-293a11dc3428",
   "metadata": {},
   "outputs": [],
   "source": []
  }
 ],
 "metadata": {
  "kernelspec": {
   "display_name": "Python 3 (ipykernel)",
   "language": "python",
   "name": "python3"
  },
  "language_info": {
   "codemirror_mode": {
    "name": "ipython",
    "version": 3
   },
   "file_extension": ".py",
   "mimetype": "text/x-python",
   "name": "python",
   "nbconvert_exporter": "python",
   "pygments_lexer": "ipython3",
   "version": "3.12.7"
  }
 },
 "nbformat": 4,
 "nbformat_minor": 5
}
