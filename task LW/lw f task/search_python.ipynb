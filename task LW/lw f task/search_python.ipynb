{
 "cells": [
  {
   "cell_type": "code",
   "execution_count": 2,
   "id": "54455013-316f-4dec-b7fa-d9c9b6b09348",
   "metadata": {},
   "outputs": [
    {
     "name": "stdout",
     "output_type": "stream",
     "text": [
      "🔍 160+ general knowledge quiz questions for any occasion ...\n",
      "🔗 https://www.mentimeter.com/blog/meetings/quiz-questions\n",
      "\n",
      "🔍 General Knowledge for Kids: Check 200+ Simple GK ...\n",
      "🔗 https://www.jagranjosh.com/general-knowledge/general-knowledge-for-kids-1645092696-1\n",
      "\n",
      "🔍 414 Best General Knowledge Trivia Questions And Answers\n",
      "🔗 https://www.buzzfeed.com/audreyworboys/general-knowledge-trivia-questions-and-answers\n",
      "\n"
     ]
    }
   ],
   "source": [
    "from serpapi import GoogleSearch\n",
    "\n",
    "params = {\n",
    "    \"engine\": \"google\",\n",
    "    \"q\": \"gk basic question and answer\",   # इथे तू काय शोधायचं आहे ते लिहा\n",
    "    \"api_key\": \"51bfe0d54ef1b352f79f33f538e82f3b3062652878b941cb2414bc0081389c38\"\n",
    "}\n",
    "\n",
    "search = GoogleSearch(params)\n",
    "results = search.get_dict()\n",
    "\n",
    "# Top 3 result title आणि link print करू\n",
    "for result in results[\"organic_results\"][:3]:\n",
    "    print(\"🔍\", result[\"title\"])\n",
    "    print(\"🔗\", result[\"link\"])\n",
    "    print()\n"
   ]
  },
  {
   "cell_type": "code",
   "execution_count": null,
   "id": "bd3e6d5c-70b1-4d06-a988-eb67f66c1dfc",
   "metadata": {},
   "outputs": [],
   "source": []
  }
 ],
 "metadata": {
  "kernelspec": {
   "display_name": "Python 3 (ipykernel)",
   "language": "python",
   "name": "python3"
  },
  "language_info": {
   "codemirror_mode": {
    "name": "ipython",
    "version": 3
   },
   "file_extension": ".py",
   "mimetype": "text/x-python",
   "name": "python",
   "nbconvert_exporter": "python",
   "pygments_lexer": "ipython3",
   "version": "3.12.7"
  }
 },
 "nbformat": 4,
 "nbformat_minor": 5
}
