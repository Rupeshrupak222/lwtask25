{
 "cells": [
  {
   "cell_type": "code",
   "execution_count": 15,
   "id": "9a672ba3-9377-4f65-895c-aa2fa4c8d461",
   "metadata": {},
   "outputs": [
    {
     "name": "stdout",
     "output_type": "stream",
     "text": [
      "CA909a1ed106f629164774494a19a99fac\n"
     ]
    }
   ],
   "source": [
    "from twilio.rest import Client\n",
    "\n",
    "# Twilio credentials (replace with your actual credentials)\n",
    "account_sid = 'AC2fb75fe0a9e32210f246bb1a30e15f20'\n",
    "auth_token = '827bf70134ae616ec8f87db732f58325'  # Replace with actual auth token\n",
    "\n",
    "# Create Twilio client\n",
    "client = Client(account_sid, auth_token)\n",
    "\n",
    "# Phone numbers (replace with actual numbers)\n",
    "to_number = '+919579346760'  # The number to call\n",
    "from_number = '+18383682014'  # Your Twilio number\n",
    "\n",
    "# Create the call\n",
    "call = client.calls.create(\n",
    "    twiml='<Response><Dial>+18383682014</Dial></Response>',  # Replace with the same or different number\n",
    "    to=to_number,\n",
    "    from_=from_number\n",
    ")\n",
    "\n",
    "# Print the SID of the call\n",
    "print(call.sid)\n"
   ]
  },
  {
   "cell_type": "code",
   "execution_count": null,
   "id": "16c49802-4c39-4e64-b517-92917c10fbb5",
   "metadata": {},
   "outputs": [],
   "source": []
  }
 ],
 "metadata": {
  "kernelspec": {
   "display_name": "Python 3 (ipykernel)",
   "language": "python",
   "name": "python3"
  },
  "language_info": {
   "codemirror_mode": {
    "name": "ipython",
    "version": 3
   },
   "file_extension": ".py",
   "mimetype": "text/x-python",
   "name": "python",
   "nbconvert_exporter": "python",
   "pygments_lexer": "ipython3",
   "version": "3.12.7"
  }
 },
 "nbformat": 4,
 "nbformat_minor": 5
}
